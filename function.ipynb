{
 "cells": [
  {
   "cell_type": "code",
   "execution_count": 1,
   "id": "f6c0f865",
   "metadata": {},
   "outputs": [],
   "source": [
    "# Define the function \"say_hello\" so it prints \"Hello!\" when called.\n",
    "def say_hello():\n",
    "    print(\"Hello!\")"
   ]
  },
  {
   "cell_type": "code",
   "execution_count": 2,
   "id": "e0d2baa6",
   "metadata": {},
   "outputs": [
    {
     "name": "stdout",
     "output_type": "stream",
     "text": [
      "Hello!\n"
     ]
    }
   ],
   "source": [
    "#call the function\n",
    "say_hello()"
   ]
  },
  {
   "cell_type": "code",
   "execution_count": 3,
   "id": "3294f9d6",
   "metadata": {},
   "outputs": [],
   "source": [
    "# Define the function \"say_something\" so it prints whatever is passed as the variable when called.\n",
    "def say_something(something):\n",
    "    print(something)"
   ]
  },
  {
   "cell_type": "code",
   "execution_count": 5,
   "id": "fca24423",
   "metadata": {},
   "outputs": [
    {
     "name": "stdout",
     "output_type": "stream",
     "text": [
      "Hello World\n"
     ]
    }
   ],
   "source": [
    "#call the function\n",
    "say_something(\"Hello World\")"
   ]
  },
  {
   "cell_type": "code",
   "execution_count": 6,
   "id": "442ca978",
   "metadata": {},
   "outputs": [
    {
     "name": "stdout",
     "output_type": "stream",
     "text": [
      "Hi, my name is Jane. I'm learning Python!\n"
     ]
    }
   ],
   "source": [
    "Jane_says = \"Hi, my name is Jane. I'm learning Python!\"\n",
    "say_something(Jane_says)"
   ]
  },
  {
   "cell_type": "code",
   "execution_count": 16,
   "id": "d88d85fb",
   "metadata": {},
   "outputs": [],
   "source": [
    "#define a function that calcuate the percentage of students that passed both # math and reading and prints the passing percentage to the output when the function is called\n",
    "def passing_math_percent(pass_math_count, student_count):\n",
    "    return pass_math_count / float(student_count) * 100"
   ]
  },
  {
   "cell_type": "code",
   "execution_count": 17,
   "id": "c42cd411",
   "metadata": {},
   "outputs": [],
   "source": [
    "passing_math_count = 29370\n",
    "total_student_count = 39170"
   ]
  },
  {
   "cell_type": "code",
   "execution_count": 18,
   "id": "c42436d1",
   "metadata": {},
   "outputs": [
    {
     "data": {
      "text/plain": [
       "74.9808526933878"
      ]
     },
     "execution_count": 18,
     "metadata": {},
     "output_type": "execute_result"
    }
   ],
   "source": [
    "# Call the function.\n",
    "passing_math_percent(passing_math_count, total_student_count)"
   ]
  },
  {
   "cell_type": "code",
   "execution_count": 21,
   "id": "79eda410",
   "metadata": {},
   "outputs": [],
   "source": [
    "# A list of my grades.\n",
    "my_grades = ['B', 'C', 'B' , 'D']"
   ]
  },
  {
   "cell_type": "code",
   "execution_count": 22,
   "id": "9e28c531",
   "metadata": {},
   "outputs": [
    {
     "data": {
      "text/plain": [
       "0    B\n",
       "1    C\n",
       "2    B\n",
       "3    D\n",
       "dtype: object"
      ]
     },
     "execution_count": 22,
     "metadata": {},
     "output_type": "execute_result"
    }
   ],
   "source": [
    "# Import pandas.\n",
    "import pandas as pd\n",
    "# Convert the my_grades to a Series\n",
    "my_grades = pd.Series(my_grades)\n",
    "my_grades"
   ]
  },
  {
   "cell_type": "code",
   "execution_count": 23,
   "id": "18e3245b",
   "metadata": {},
   "outputs": [
    {
     "data": {
      "text/plain": [
       "0    A\n",
       "1    B\n",
       "2    A\n",
       "3    C\n",
       "dtype: object"
      ]
     },
     "execution_count": 23,
     "metadata": {},
     "output_type": "execute_result"
    }
   ],
   "source": [
    "# Change the grades by one letter grade.\n",
    "my_grades.map({'B': 'A', 'C': 'B', 'D': 'C'})"
   ]
  },
  {
   "cell_type": "code",
   "execution_count": 24,
   "id": "00130de4",
   "metadata": {},
   "outputs": [
    {
     "name": "stdout",
     "output_type": "stream",
     "text": [
      "92\n",
      "85\n",
      "87\n",
      "98\n"
     ]
    }
   ],
   "source": [
    "# Using the format() function.\n",
    "my_grades = [92.34, 84.56, 86.78, 98.32]\n",
    "\n",
    "for grade in my_grades:\n",
    "    print(\"{:.0f}\".format(grade))"
   ]
  },
  {
   "cell_type": "code",
   "execution_count": 25,
   "id": "637d4967",
   "metadata": {},
   "outputs": [
    {
     "data": {
      "text/plain": [
       "0    92.34\n",
       "1    84.56\n",
       "2    86.78\n",
       "3    78.32\n",
       "dtype: float64"
      ]
     },
     "execution_count": 25,
     "metadata": {},
     "output_type": "execute_result"
    }
   ],
   "source": [
    "# Convert the numerical grades to a Series.\n",
    "my_grades = pd.Series([92.34, 84.56, 86.78, 78.32])\n",
    "my_grades"
   ]
  },
  {
   "cell_type": "code",
   "execution_count": 26,
   "id": "45f70081",
   "metadata": {},
   "outputs": [
    {
     "data": {
      "text/plain": [
       "0    92\n",
       "1    85\n",
       "2    87\n",
       "3    78\n",
       "dtype: object"
      ]
     },
     "execution_count": 26,
     "metadata": {},
     "output_type": "execute_result"
    }
   ],
   "source": [
    "# Format the grades to the nearest whole number percent.\n",
    "my_grades.map(\"{:.0f}\".format)\n"
   ]
  },
  {
   "cell_type": "code",
   "execution_count": null,
   "id": "03d97ac7",
   "metadata": {},
   "outputs": [],
   "source": []
  }
 ],
 "metadata": {
  "kernelspec": {
   "display_name": "PythonData",
   "language": "python",
   "name": "pythondata"
  },
  "language_info": {
   "codemirror_mode": {
    "name": "ipython",
    "version": 3
   },
   "file_extension": ".py",
   "mimetype": "text/x-python",
   "name": "python",
   "nbconvert_exporter": "python",
   "pygments_lexer": "ipython3",
   "version": "3.7.10"
  }
 },
 "nbformat": 4,
 "nbformat_minor": 5
}
